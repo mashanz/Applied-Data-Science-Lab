{
 "cells": [
  {
   "cell_type": "code",
   "execution_count": 1,
   "metadata": {},
   "outputs": [
    {
     "data": {
      "text/html": [
       "<table>\n",
       "<thead><tr><th scope=col>cluster</th><th scope=col>Nama.Segmen</th></tr></thead>\n",
       "<tbody>\n",
       "\t<tr><td>1                      </td><td>Silver Youth Gals      </td></tr>\n",
       "\t<tr><td>2                      </td><td>Diamond Senior Member  </td></tr>\n",
       "\t<tr><td>3                      </td><td>Gold Young Professional</td></tr>\n",
       "\t<tr><td>4                      </td><td>Diamond Professional   </td></tr>\n",
       "\t<tr><td>5                      </td><td>Silver Mid Professional</td></tr>\n",
       "</tbody>\n",
       "</table>\n"
      ],
      "text/latex": [
       "\\begin{tabular}{r|ll}\n",
       " cluster & Nama.Segmen\\\\\n",
       "\\hline\n",
       "\t 1                       & Silver Youth Gals      \\\\\n",
       "\t 2                       & Diamond Senior Member  \\\\\n",
       "\t 3                       & Gold Young Professional\\\\\n",
       "\t 4                       & Diamond Professional   \\\\\n",
       "\t 5                       & Silver Mid Professional\\\\\n",
       "\\end{tabular}\n"
      ],
      "text/markdown": [
       "\n",
       "| cluster | Nama.Segmen |\n",
       "|---|---|\n",
       "| 1                       | Silver Youth Gals       |\n",
       "| 2                       | Diamond Senior Member   |\n",
       "| 3                       | Gold Young Professional |\n",
       "| 4                       | Diamond Professional    |\n",
       "| 5                       | Silver Mid Professional |\n",
       "\n"
      ],
      "text/plain": [
       "  cluster Nama.Segmen            \n",
       "1 1       Silver Youth Gals      \n",
       "2 2       Diamond Senior Member  \n",
       "3 3       Gold Young Professional\n",
       "4 4       Diamond Professional   \n",
       "5 5       Silver Mid Professional"
      ]
     },
     "metadata": {},
     "output_type": "display_data"
    }
   ],
   "source": [
    "Segmen.Pelanggan <- data.frame(cluster=c(1,2,3,4,5), Nama.Segmen=c(\"Silver Youth Gals\", \"Diamond Senior Member\", \"Gold Young Professional\", \"Diamond Professional\", \"Silver Mid Professional\"))\n",
    "Segmen.Pelanggan"
   ]
  },
  {
   "cell_type": "code",
   "execution_count": null,
   "metadata": {},
   "outputs": [],
   "source": []
  }
 ],
 "metadata": {
  "kernelspec": {
   "display_name": "R",
   "language": "R",
   "name": "ir"
  },
  "language_info": {
   "codemirror_mode": "r",
   "file_extension": ".r",
   "mimetype": "text/x-r-source",
   "name": "R",
   "pygments_lexer": "r",
   "version": "3.6.1"
  }
 },
 "nbformat": 4,
 "nbformat_minor": 4
}
