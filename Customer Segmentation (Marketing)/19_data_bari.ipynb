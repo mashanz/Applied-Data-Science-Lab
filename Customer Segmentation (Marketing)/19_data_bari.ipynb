{
 "cells": [
  {
   "cell_type": "markdown",
   "metadata": {},
   "source": [
    "# data Baru"
   ]
  },
  {
   "cell_type": "code",
   "execution_count": 1,
   "metadata": {},
   "outputs": [
    {
     "data": {
      "text/html": [
       "<table>\n",
       "<thead><tr><th scope=col>Customer_ID</th><th scope=col>Nama.Pelanggan</th><th scope=col>Umur</th><th scope=col>Jenis.Kelamin</th><th scope=col>Profesi</th><th scope=col>Tipe.Residen</th><th scope=col>NilaiBelanjaSetahun</th></tr></thead>\n",
       "<tbody>\n",
       "\t<tr><td>CUST-100    </td><td>Rudi Wilamar</td><td>20          </td><td>Wanita      </td><td>Pelajar     </td><td>Cluster     </td><td>3.5         </td></tr>\n",
       "</tbody>\n",
       "</table>\n"
      ],
      "text/latex": [
       "\\begin{tabular}{r|lllllll}\n",
       " Customer\\_ID & Nama.Pelanggan & Umur & Jenis.Kelamin & Profesi & Tipe.Residen & NilaiBelanjaSetahun\\\\\n",
       "\\hline\n",
       "\t CUST-100     & Rudi Wilamar & 20           & Wanita       & Pelajar      & Cluster      & 3.5         \\\\\n",
       "\\end{tabular}\n"
      ],
      "text/markdown": [
       "\n",
       "| Customer_ID | Nama.Pelanggan | Umur | Jenis.Kelamin | Profesi | Tipe.Residen | NilaiBelanjaSetahun |\n",
       "|---|---|---|---|---|---|---|\n",
       "| CUST-100     | Rudi Wilamar | 20           | Wanita       | Pelajar      | Cluster      | 3.5          |\n",
       "\n"
      ],
      "text/plain": [
       "  Customer_ID Nama.Pelanggan Umur Jenis.Kelamin Profesi Tipe.Residen\n",
       "1 CUST-100    Rudi Wilamar   20   Wanita        Pelajar Cluster     \n",
       "  NilaiBelanjaSetahun\n",
       "1 3.5                "
      ]
     },
     "metadata": {},
     "output_type": "display_data"
    }
   ],
   "source": [
    "databaru <- data.frame(Customer_ID=\"CUST-100\", Nama.Pelanggan=\"Rudi Wilamar\", Umur=20, Jenis.Kelamin=\"Wanita\", Profesi=\"Pelajar\", Tipe.Residen=\"Cluster\", NilaiBelanjaSetahun=3.5)\n",
    "databaru"
   ]
  }
 ],
 "metadata": {
  "kernelspec": {
   "display_name": "R",
   "language": "R",
   "name": "ir"
  },
  "language_info": {
   "codemirror_mode": "r",
   "file_extension": ".r",
   "mimetype": "text/x-r-source",
   "name": "R",
   "pygments_lexer": "r",
   "version": "3.6.1"
  }
 },
 "nbformat": 4,
 "nbformat_minor": 4
}
