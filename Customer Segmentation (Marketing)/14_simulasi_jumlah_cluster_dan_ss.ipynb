{
 "cells": [
  {
   "cell_type": "markdown",
   "metadata": {},
   "source": [
    "# Bagian Data Preparation"
   ]
  },
  {
   "cell_type": "code",
   "execution_count": 13,
   "metadata": {},
   "outputs": [
    {
     "data": {
      "text/html": [
       "<table>\n",
       "<thead><tr><th scope=col>Customer_ID</th><th scope=col>Nama.Pelanggan</th><th scope=col>Jenis.Kelamin</th><th scope=col>Umur</th><th scope=col>Profesi</th><th scope=col>Tipe.Residen</th><th scope=col>NilaiBelanjaSetahun</th></tr></thead>\n",
       "<tbody>\n",
       "\t<tr><td>CUST-001           </td><td>Budi Anggara       </td><td>Pria               </td><td>58                 </td><td>Wiraswasta         </td><td>Sector             </td><td> 9497927           </td></tr>\n",
       "\t<tr><td>CUST-002           </td><td>Shirley Ratuwati   </td><td>Wanita             </td><td>14                 </td><td>Pelajar            </td><td>Cluster            </td><td> 2722700           </td></tr>\n",
       "\t<tr><td>CUST-003           </td><td>Agus Cahyono       </td><td>Pria               </td><td>48                 </td><td>Professional       </td><td>Cluster            </td><td> 5286429           </td></tr>\n",
       "\t<tr><td>CUST-004           </td><td>Antonius Winarta   </td><td>Pria               </td><td>53                 </td><td>Professional       </td><td>Cluster            </td><td> 5204498           </td></tr>\n",
       "\t<tr><td>CUST-005           </td><td>Ibu Sri Wahyuni, IR</td><td>Wanita             </td><td>41                 </td><td>Wiraswasta         </td><td>Cluster            </td><td>10615206           </td></tr>\n",
       "\t<tr><td>CUST-006           </td><td>Rosalina Kurnia    </td><td>Wanita             </td><td>24                 </td><td>Professional       </td><td>Cluster            </td><td> 5215541           </td></tr>\n",
       "</tbody>\n",
       "</table>\n"
      ],
      "text/latex": [
       "\\begin{tabular}{r|lllllll}\n",
       " Customer\\_ID & Nama.Pelanggan & Jenis.Kelamin & Umur & Profesi & Tipe.Residen & NilaiBelanjaSetahun\\\\\n",
       "\\hline\n",
       "\t CUST-001            & Budi Anggara        & Pria                & 58                  & Wiraswasta          & Sector              &  9497927           \\\\\n",
       "\t CUST-002            & Shirley Ratuwati    & Wanita              & 14                  & Pelajar             & Cluster             &  2722700           \\\\\n",
       "\t CUST-003            & Agus Cahyono        & Pria                & 48                  & Professional        & Cluster             &  5286429           \\\\\n",
       "\t CUST-004            & Antonius Winarta    & Pria                & 53                  & Professional        & Cluster             &  5204498           \\\\\n",
       "\t CUST-005            & Ibu Sri Wahyuni, IR & Wanita              & 41                  & Wiraswasta          & Cluster             & 10615206           \\\\\n",
       "\t CUST-006            & Rosalina Kurnia     & Wanita              & 24                  & Professional        & Cluster             &  5215541           \\\\\n",
       "\\end{tabular}\n"
      ],
      "text/markdown": [
       "\n",
       "| Customer_ID | Nama.Pelanggan | Jenis.Kelamin | Umur | Profesi | Tipe.Residen | NilaiBelanjaSetahun |\n",
       "|---|---|---|---|---|---|---|\n",
       "| CUST-001            | Budi Anggara        | Pria                | 58                  | Wiraswasta          | Sector              |  9497927            |\n",
       "| CUST-002            | Shirley Ratuwati    | Wanita              | 14                  | Pelajar             | Cluster             |  2722700            |\n",
       "| CUST-003            | Agus Cahyono        | Pria                | 48                  | Professional        | Cluster             |  5286429            |\n",
       "| CUST-004            | Antonius Winarta    | Pria                | 53                  | Professional        | Cluster             |  5204498            |\n",
       "| CUST-005            | Ibu Sri Wahyuni, IR | Wanita              | 41                  | Wiraswasta          | Cluster             | 10615206            |\n",
       "| CUST-006            | Rosalina Kurnia     | Wanita              | 24                  | Professional        | Cluster             |  5215541            |\n",
       "\n"
      ],
      "text/plain": [
       "  Customer_ID Nama.Pelanggan      Jenis.Kelamin Umur Profesi      Tipe.Residen\n",
       "1 CUST-001    Budi Anggara        Pria          58   Wiraswasta   Sector      \n",
       "2 CUST-002    Shirley Ratuwati    Wanita        14   Pelajar      Cluster     \n",
       "3 CUST-003    Agus Cahyono        Pria          48   Professional Cluster     \n",
       "4 CUST-004    Antonius Winarta    Pria          53   Professional Cluster     \n",
       "5 CUST-005    Ibu Sri Wahyuni, IR Wanita        41   Wiraswasta   Cluster     \n",
       "6 CUST-006    Rosalina Kurnia     Wanita        24   Professional Cluster     \n",
       "  NilaiBelanjaSetahun\n",
       "1  9497927           \n",
       "2  2722700           \n",
       "3  5286429           \n",
       "4  5204498           \n",
       "5 10615206           \n",
       "6  5215541           "
      ]
     },
     "metadata": {},
     "output_type": "display_data"
    }
   ],
   "source": [
    "pelanggan <- read.csv(\"customer_segments.txt\", sep=\"\\t\")\n",
    "head(pelanggan)"
   ]
  },
  {
   "cell_type": "code",
   "execution_count": 14,
   "metadata": {},
   "outputs": [
    {
     "data": {
      "text/html": [
       "<table>\n",
       "<thead><tr><th scope=col>Jenis.Kelamin</th><th scope=col>Profesi</th><th scope=col>Tipe.Residen</th></tr></thead>\n",
       "<tbody>\n",
       "\t<tr><td>1</td><td>5</td><td>2</td></tr>\n",
       "\t<tr><td>2</td><td>3</td><td>1</td></tr>\n",
       "\t<tr><td>1</td><td>4</td><td>1</td></tr>\n",
       "\t<tr><td>1</td><td>4</td><td>1</td></tr>\n",
       "\t<tr><td>2</td><td>5</td><td>1</td></tr>\n",
       "\t<tr><td>2</td><td>4</td><td>1</td></tr>\n",
       "</tbody>\n",
       "</table>\n"
      ],
      "text/latex": [
       "\\begin{tabular}{lll}\n",
       " Jenis.Kelamin & Profesi & Tipe.Residen\\\\\n",
       "\\hline\n",
       "\t 1 & 5 & 2\\\\\n",
       "\t 2 & 3 & 1\\\\\n",
       "\t 1 & 4 & 1\\\\\n",
       "\t 1 & 4 & 1\\\\\n",
       "\t 2 & 5 & 1\\\\\n",
       "\t 2 & 4 & 1\\\\\n",
       "\\end{tabular}\n"
      ],
      "text/markdown": [
       "\n",
       "| Jenis.Kelamin | Profesi | Tipe.Residen |\n",
       "|---|---|---|\n",
       "| 1 | 5 | 2 |\n",
       "| 2 | 3 | 1 |\n",
       "| 1 | 4 | 1 |\n",
       "| 1 | 4 | 1 |\n",
       "| 2 | 5 | 1 |\n",
       "| 2 | 4 | 1 |\n",
       "\n"
      ],
      "text/plain": [
       "     Jenis.Kelamin Profesi Tipe.Residen\n",
       "[1,] 1             5       2           \n",
       "[2,] 2             3       1           \n",
       "[3,] 1             4       1           \n",
       "[4,] 1             4       1           \n",
       "[5,] 2             5       1           \n",
       "[6,] 2             4       1           "
      ]
     },
     "metadata": {},
     "output_type": "display_data"
    }
   ],
   "source": [
    "pelanggan_matrix <- data.matrix(pelanggan[c(\"Jenis.Kelamin\", \"Profesi\", \"Tipe.Residen\")])\n",
    "head(pelanggan_matrix)"
   ]
  },
  {
   "cell_type": "code",
   "execution_count": 15,
   "metadata": {},
   "outputs": [
    {
     "data": {
      "text/html": [
       "<table>\n",
       "<thead><tr><th scope=col>Customer_ID</th><th scope=col>Nama.Pelanggan</th><th scope=col>Jenis.Kelamin</th><th scope=col>Umur</th><th scope=col>Profesi</th><th scope=col>Tipe.Residen</th><th scope=col>NilaiBelanjaSetahun</th><th scope=col>Jenis.Kelamin.1</th><th scope=col>Profesi.1</th><th scope=col>Tipe.Residen.1</th></tr></thead>\n",
       "<tbody>\n",
       "\t<tr><td>CUST-001           </td><td>Budi Anggara       </td><td>Pria               </td><td>58                 </td><td>Wiraswasta         </td><td>Sector             </td><td> 9497927           </td><td>1                  </td><td>5                  </td><td>2                  </td></tr>\n",
       "\t<tr><td>CUST-002           </td><td>Shirley Ratuwati   </td><td>Wanita             </td><td>14                 </td><td>Pelajar            </td><td>Cluster            </td><td> 2722700           </td><td>2                  </td><td>3                  </td><td>1                  </td></tr>\n",
       "\t<tr><td>CUST-003           </td><td>Agus Cahyono       </td><td>Pria               </td><td>48                 </td><td>Professional       </td><td>Cluster            </td><td> 5286429           </td><td>1                  </td><td>4                  </td><td>1                  </td></tr>\n",
       "\t<tr><td>CUST-004           </td><td>Antonius Winarta   </td><td>Pria               </td><td>53                 </td><td>Professional       </td><td>Cluster            </td><td> 5204498           </td><td>1                  </td><td>4                  </td><td>1                  </td></tr>\n",
       "\t<tr><td>CUST-005           </td><td>Ibu Sri Wahyuni, IR</td><td>Wanita             </td><td>41                 </td><td>Wiraswasta         </td><td>Cluster            </td><td>10615206           </td><td>2                  </td><td>5                  </td><td>1                  </td></tr>\n",
       "\t<tr><td>CUST-006           </td><td>Rosalina Kurnia    </td><td>Wanita             </td><td>24                 </td><td>Professional       </td><td>Cluster            </td><td> 5215541           </td><td>2                  </td><td>4                  </td><td>1                  </td></tr>\n",
       "</tbody>\n",
       "</table>\n"
      ],
      "text/latex": [
       "\\begin{tabular}{r|llllllllll}\n",
       " Customer\\_ID & Nama.Pelanggan & Jenis.Kelamin & Umur & Profesi & Tipe.Residen & NilaiBelanjaSetahun & Jenis.Kelamin.1 & Profesi.1 & Tipe.Residen.1\\\\\n",
       "\\hline\n",
       "\t CUST-001            & Budi Anggara        & Pria                & 58                  & Wiraswasta          & Sector              &  9497927            & 1                   & 5                   & 2                  \\\\\n",
       "\t CUST-002            & Shirley Ratuwati    & Wanita              & 14                  & Pelajar             & Cluster             &  2722700            & 2                   & 3                   & 1                  \\\\\n",
       "\t CUST-003            & Agus Cahyono        & Pria                & 48                  & Professional        & Cluster             &  5286429            & 1                   & 4                   & 1                  \\\\\n",
       "\t CUST-004            & Antonius Winarta    & Pria                & 53                  & Professional        & Cluster             &  5204498            & 1                   & 4                   & 1                  \\\\\n",
       "\t CUST-005            & Ibu Sri Wahyuni, IR & Wanita              & 41                  & Wiraswasta          & Cluster             & 10615206            & 2                   & 5                   & 1                  \\\\\n",
       "\t CUST-006            & Rosalina Kurnia     & Wanita              & 24                  & Professional        & Cluster             &  5215541            & 2                   & 4                   & 1                  \\\\\n",
       "\\end{tabular}\n"
      ],
      "text/markdown": [
       "\n",
       "| Customer_ID | Nama.Pelanggan | Jenis.Kelamin | Umur | Profesi | Tipe.Residen | NilaiBelanjaSetahun | Jenis.Kelamin.1 | Profesi.1 | Tipe.Residen.1 |\n",
       "|---|---|---|---|---|---|---|---|---|---|\n",
       "| CUST-001            | Budi Anggara        | Pria                | 58                  | Wiraswasta          | Sector              |  9497927            | 1                   | 5                   | 2                   |\n",
       "| CUST-002            | Shirley Ratuwati    | Wanita              | 14                  | Pelajar             | Cluster             |  2722700            | 2                   | 3                   | 1                   |\n",
       "| CUST-003            | Agus Cahyono        | Pria                | 48                  | Professional        | Cluster             |  5286429            | 1                   | 4                   | 1                   |\n",
       "| CUST-004            | Antonius Winarta    | Pria                | 53                  | Professional        | Cluster             |  5204498            | 1                   | 4                   | 1                   |\n",
       "| CUST-005            | Ibu Sri Wahyuni, IR | Wanita              | 41                  | Wiraswasta          | Cluster             | 10615206            | 2                   | 5                   | 1                   |\n",
       "| CUST-006            | Rosalina Kurnia     | Wanita              | 24                  | Professional        | Cluster             |  5215541            | 2                   | 4                   | 1                   |\n",
       "\n"
      ],
      "text/plain": [
       "  Customer_ID Nama.Pelanggan      Jenis.Kelamin Umur Profesi      Tipe.Residen\n",
       "1 CUST-001    Budi Anggara        Pria          58   Wiraswasta   Sector      \n",
       "2 CUST-002    Shirley Ratuwati    Wanita        14   Pelajar      Cluster     \n",
       "3 CUST-003    Agus Cahyono        Pria          48   Professional Cluster     \n",
       "4 CUST-004    Antonius Winarta    Pria          53   Professional Cluster     \n",
       "5 CUST-005    Ibu Sri Wahyuni, IR Wanita        41   Wiraswasta   Cluster     \n",
       "6 CUST-006    Rosalina Kurnia     Wanita        24   Professional Cluster     \n",
       "  NilaiBelanjaSetahun Jenis.Kelamin.1 Profesi.1 Tipe.Residen.1\n",
       "1  9497927            1               5         2             \n",
       "2  2722700            2               3         1             \n",
       "3  5286429            1               4         1             \n",
       "4  5204498            1               4         1             \n",
       "5 10615206            2               5         1             \n",
       "6  5215541            2               4         1             "
      ]
     },
     "metadata": {},
     "output_type": "display_data"
    }
   ],
   "source": [
    "pelanggan <- data.frame(pelanggan, pelanggan_matrix)\n",
    "head(pelanggan)"
   ]
  },
  {
   "cell_type": "code",
   "execution_count": 7,
   "metadata": {},
   "outputs": [
    {
     "data": {
      "text/html": [
       "<table>\n",
       "<thead><tr><th></th><th scope=col>Profesi</th><th scope=col>Profesi.1</th></tr></thead>\n",
       "<tbody>\n",
       "\t<tr><th scope=row>1</th><td>Wiraswasta      </td><td>5               </td></tr>\n",
       "\t<tr><th scope=row>2</th><td>Pelajar         </td><td>3               </td></tr>\n",
       "\t<tr><th scope=row>3</th><td>Professional    </td><td>4               </td></tr>\n",
       "\t<tr><th scope=row>17</th><td>Ibu Rumah Tangga</td><td>1               </td></tr>\n",
       "\t<tr><th scope=row>31</th><td>Mahasiswa       </td><td>2               </td></tr>\n",
       "</tbody>\n",
       "</table>\n"
      ],
      "text/latex": [
       "\\begin{tabular}{r|ll}\n",
       "  & Profesi & Profesi.1\\\\\n",
       "\\hline\n",
       "\t1 & Wiraswasta       & 5               \\\\\n",
       "\t2 & Pelajar          & 3               \\\\\n",
       "\t3 & Professional     & 4               \\\\\n",
       "\t17 & Ibu Rumah Tangga & 1               \\\\\n",
       "\t31 & Mahasiswa        & 2               \\\\\n",
       "\\end{tabular}\n"
      ],
      "text/markdown": [
       "\n",
       "| <!--/--> | Profesi | Profesi.1 |\n",
       "|---|---|---|\n",
       "| 1 | Wiraswasta       | 5                |\n",
       "| 2 | Pelajar          | 3                |\n",
       "| 3 | Professional     | 4                |\n",
       "| 17 | Ibu Rumah Tangga | 1                |\n",
       "| 31 | Mahasiswa        | 2                |\n",
       "\n"
      ],
      "text/plain": [
       "   Profesi          Profesi.1\n",
       "1  Wiraswasta       5        \n",
       "2  Pelajar          3        \n",
       "3  Professional     4        \n",
       "17 Ibu Rumah Tangga 1        \n",
       "31 Mahasiswa        2        "
      ]
     },
     "metadata": {},
     "output_type": "display_data"
    }
   ],
   "source": [
    "Profesi <- unique(pelanggan[c(\"Profesi\",\"Profesi.1\")])\n",
    "Profesi"
   ]
  },
  {
   "cell_type": "code",
   "execution_count": 8,
   "metadata": {},
   "outputs": [
    {
     "data": {
      "text/html": [
       "<table>\n",
       "<thead><tr><th scope=col>Jenis.Kelamin</th><th scope=col>Jenis.Kelamin.1</th></tr></thead>\n",
       "<tbody>\n",
       "\t<tr><td>Pria  </td><td>1     </td></tr>\n",
       "\t<tr><td>Wanita</td><td>2     </td></tr>\n",
       "</tbody>\n",
       "</table>\n"
      ],
      "text/latex": [
       "\\begin{tabular}{r|ll}\n",
       " Jenis.Kelamin & Jenis.Kelamin.1\\\\\n",
       "\\hline\n",
       "\t Pria   & 1     \\\\\n",
       "\t Wanita & 2     \\\\\n",
       "\\end{tabular}\n"
      ],
      "text/markdown": [
       "\n",
       "| Jenis.Kelamin | Jenis.Kelamin.1 |\n",
       "|---|---|\n",
       "| Pria   | 1      |\n",
       "| Wanita | 2      |\n",
       "\n"
      ],
      "text/plain": [
       "  Jenis.Kelamin Jenis.Kelamin.1\n",
       "1 Pria          1              \n",
       "2 Wanita        2              "
      ]
     },
     "metadata": {},
     "output_type": "display_data"
    }
   ],
   "source": [
    "Jenis.Kelamin <- unique(pelanggan[c(\"Jenis.Kelamin\",\"Jenis.Kelamin.1\")])\n",
    "Jenis.Kelamin"
   ]
  },
  {
   "cell_type": "code",
   "execution_count": 9,
   "metadata": {},
   "outputs": [
    {
     "data": {
      "text/html": [
       "<table>\n",
       "<thead><tr><th scope=col>Tipe.Residen</th><th scope=col>Tipe.Residen.1</th></tr></thead>\n",
       "<tbody>\n",
       "\t<tr><td>Sector </td><td>2      </td></tr>\n",
       "\t<tr><td>Cluster</td><td>1      </td></tr>\n",
       "</tbody>\n",
       "</table>\n"
      ],
      "text/latex": [
       "\\begin{tabular}{r|ll}\n",
       " Tipe.Residen & Tipe.Residen.1\\\\\n",
       "\\hline\n",
       "\t Sector  & 2      \\\\\n",
       "\t Cluster & 1      \\\\\n",
       "\\end{tabular}\n"
      ],
      "text/markdown": [
       "\n",
       "| Tipe.Residen | Tipe.Residen.1 |\n",
       "|---|---|\n",
       "| Sector  | 2       |\n",
       "| Cluster | 1       |\n",
       "\n"
      ],
      "text/plain": [
       "  Tipe.Residen Tipe.Residen.1\n",
       "1 Sector       2             \n",
       "2 Cluster      1             "
      ]
     },
     "metadata": {},
     "output_type": "display_data"
    }
   ],
   "source": [
    "Tipe.Profesi <- unique(pelanggan[c(\"Tipe.Residen\",\"Tipe.Residen.1\")])\n",
    "Tipe.Profesi"
   ]
  },
  {
   "cell_type": "code",
   "execution_count": 16,
   "metadata": {},
   "outputs": [
    {
     "data": {
      "text/html": [
       "<ol class=list-inline>\n",
       "\t<li>9.497927</li>\n",
       "\t<li>2.7227</li>\n",
       "\t<li>5.286429</li>\n",
       "\t<li>5.204498</li>\n",
       "\t<li>10.615206</li>\n",
       "\t<li>5.215541</li>\n",
       "</ol>\n"
      ],
      "text/latex": [
       "\\begin{enumerate*}\n",
       "\\item 9.497927\n",
       "\\item 2.7227\n",
       "\\item 5.286429\n",
       "\\item 5.204498\n",
       "\\item 10.615206\n",
       "\\item 5.215541\n",
       "\\end{enumerate*}\n"
      ],
      "text/markdown": [
       "1. 9.497927\n",
       "2. 2.7227\n",
       "3. 5.286429\n",
       "4. 5.204498\n",
       "5. 10.615206\n",
       "6. 5.215541\n",
       "\n",
       "\n"
      ],
      "text/plain": [
       "[1]  9.497927  2.722700  5.286429  5.204498 10.615206  5.215541"
      ]
     },
     "metadata": {},
     "output_type": "display_data"
    }
   ],
   "source": [
    "pelanggan$NilaiBelanjaSetahun <-pelanggan$NilaiBelanjaSetahun/1000000\n",
    "head(pelanggan$NilaiBelanjaSetahun)"
   ]
  },
  {
   "cell_type": "code",
   "execution_count": 11,
   "metadata": {},
   "outputs": [
    {
     "data": {
      "text/html": [
       "<ol class=list-inline>\n",
       "\t<li>'Jenis.Kelamin.1'</li>\n",
       "\t<li>'Umur'</li>\n",
       "\t<li>'Profesi.1'</li>\n",
       "\t<li>'Tipe.Residen.1'</li>\n",
       "\t<li>'NilaiBelanjaSetahun'</li>\n",
       "</ol>\n"
      ],
      "text/latex": [
       "\\begin{enumerate*}\n",
       "\\item 'Jenis.Kelamin.1'\n",
       "\\item 'Umur'\n",
       "\\item 'Profesi.1'\n",
       "\\item 'Tipe.Residen.1'\n",
       "\\item 'NilaiBelanjaSetahun'\n",
       "\\end{enumerate*}\n"
      ],
      "text/markdown": [
       "1. 'Jenis.Kelamin.1'\n",
       "2. 'Umur'\n",
       "3. 'Profesi.1'\n",
       "4. 'Tipe.Residen.1'\n",
       "5. 'NilaiBelanjaSetahun'\n",
       "\n",
       "\n"
      ],
      "text/plain": [
       "[1] \"Jenis.Kelamin.1\"     \"Umur\"                \"Profesi.1\"          \n",
       "[4] \"Tipe.Residen.1\"      \"NilaiBelanjaSetahun\""
      ]
     },
     "metadata": {},
     "output_type": "display_data"
    }
   ],
   "source": [
    "field_yang_digunakan = c(\"Jenis.Kelamin.1\", \"Umur\", \"Profesi.1\", \"Tipe.Residen.1\",\"NilaiBelanjaSetahun\")\n",
    "field_yang_digunakan"
   ]
  },
  {
   "cell_type": "markdown",
   "metadata": {},
   "source": [
    "# Bagian K-Means"
   ]
  },
  {
   "cell_type": "code",
   "execution_count": 12,
   "metadata": {},
   "outputs": [
    {
     "data": {
      "text/html": [
       "<ol class=list-inline>\n",
       "\t<li>10990.9740325902</li>\n",
       "\t<li>3016.56115098999</li>\n",
       "\t<li>1550.87245258579</li>\n",
       "\t<li>1064.4186744681</li>\n",
       "\t<li>829.967599003609</li>\n",
       "\t<li>625.146176215474</li>\n",
       "\t<li>508.156812409351</li>\n",
       "\t<li>431.697737230219</li>\n",
       "\t<li>374.109472124797</li>\n",
       "\t<li>317.942393960025</li>\n",
       "</ol>\n"
      ],
      "text/latex": [
       "\\begin{enumerate*}\n",
       "\\item 10990.9740325902\n",
       "\\item 3016.56115098999\n",
       "\\item 1550.87245258579\n",
       "\\item 1064.4186744681\n",
       "\\item 829.967599003609\n",
       "\\item 625.146176215474\n",
       "\\item 508.156812409351\n",
       "\\item 431.697737230219\n",
       "\\item 374.109472124797\n",
       "\\item 317.942393960025\n",
       "\\end{enumerate*}\n"
      ],
      "text/markdown": [
       "1. 10990.9740325902\n",
       "2. 3016.56115098999\n",
       "3. 1550.87245258579\n",
       "4. 1064.4186744681\n",
       "5. 829.967599003609\n",
       "6. 625.146176215474\n",
       "7. 508.156812409351\n",
       "8. 431.697737230219\n",
       "9. 374.109472124797\n",
       "10. 317.942393960025\n",
       "\n",
       "\n"
      ],
      "text/plain": [
       " [1] 10990.9740  3016.5612  1550.8725  1064.4187   829.9676   625.1462\n",
       " [7]   508.1568   431.6977   374.1095   317.9424"
      ]
     },
     "metadata": {},
     "output_type": "display_data"
    }
   ],
   "source": [
    "set.seed(100)\n",
    "sse <- sapply(1:10, function(param_k) {\n",
    "    kmeans(pelanggan[field_yang_digunakan], param_k, nstart=25)$tot.withinss\n",
    "})\n",
    "sse"
   ]
  }
 ],
 "metadata": {
  "kernelspec": {
   "display_name": "R",
   "language": "R",
   "name": "ir"
  },
  "language_info": {
   "codemirror_mode": "r",
   "file_extension": ".r",
   "mimetype": "text/x-r-source",
   "name": "R",
   "pygments_lexer": "r",
   "version": "3.6.1"
  }
 },
 "nbformat": 4,
 "nbformat_minor": 4
}
