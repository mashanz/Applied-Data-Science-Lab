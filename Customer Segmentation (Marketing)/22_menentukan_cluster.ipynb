{
 "cells": [
  {
   "cell_type": "markdown",
   "metadata": {},
   "source": [
    "# membuat data baru"
   ]
  },
  {
   "cell_type": "code",
   "execution_count": 1,
   "metadata": {},
   "outputs": [
    {
     "data": {
      "text/html": [
       "<table>\n",
       "<thead><tr><th scope=col>Customer_ID</th><th scope=col>Nama.Pelanggan</th><th scope=col>Umur</th><th scope=col>Jenis.Kelamin</th><th scope=col>Profesi</th><th scope=col>Tipe.Residen</th><th scope=col>NilaiBelanjaSetahun</th></tr></thead>\n",
       "<tbody>\n",
       "\t<tr><td>CUST-100    </td><td>Rudi Wilamar</td><td>32          </td><td>Wanita      </td><td>Pelajar     </td><td>Cluster     </td><td>3.5         </td></tr>\n",
       "</tbody>\n",
       "</table>\n"
      ],
      "text/latex": [
       "\\begin{tabular}{r|lllllll}\n",
       " Customer\\_ID & Nama.Pelanggan & Umur & Jenis.Kelamin & Profesi & Tipe.Residen & NilaiBelanjaSetahun\\\\\n",
       "\\hline\n",
       "\t CUST-100     & Rudi Wilamar & 32           & Wanita       & Pelajar      & Cluster      & 3.5         \\\\\n",
       "\\end{tabular}\n"
      ],
      "text/markdown": [
       "\n",
       "| Customer_ID | Nama.Pelanggan | Umur | Jenis.Kelamin | Profesi | Tipe.Residen | NilaiBelanjaSetahun |\n",
       "|---|---|---|---|---|---|---|\n",
       "| CUST-100     | Rudi Wilamar | 32           | Wanita       | Pelajar      | Cluster      | 3.5          |\n",
       "\n"
      ],
      "text/plain": [
       "  Customer_ID Nama.Pelanggan Umur Jenis.Kelamin Profesi Tipe.Residen\n",
       "1 CUST-100    Rudi Wilamar   32   Wanita        Pelajar Cluster     \n",
       "  NilaiBelanjaSetahun\n",
       "1 3.5                "
      ]
     },
     "metadata": {},
     "output_type": "display_data"
    }
   ],
   "source": [
    "databaru <- data.frame(Customer_ID=\"CUST-100\", Nama.Pelanggan=\"Rudi Wilamar\",Umur=32,Jenis.Kelamin=\"Wanita\",Profesi=\"Pelajar\",Tipe.Residen=\"Cluster\",NilaiBelanjaSetahun=3.5)\n",
    "databaru"
   ]
  },
  {
   "cell_type": "code",
   "execution_count": 2,
   "metadata": {},
   "outputs": [
    {
     "data": {
      "text/plain": [
       "$Profesi\n",
       "            Profesi Profesi.1\n",
       "1        Wiraswasta         5\n",
       "2           Pelajar         3\n",
       "3      Professional         4\n",
       "17 Ibu Rumah Tangga         1\n",
       "31        Mahasiswa         2\n",
       "\n",
       "$Jenis.Kelamin\n",
       "  Jenis.Kelamin Jenis.Kelamin.1\n",
       "1          Pria               1\n",
       "2        Wanita               2\n",
       "\n",
       "$Tipe.Residen\n",
       "  Tipe.Residen Tipe.Residen.1\n",
       "1       Sector              2\n",
       "2      Cluster              1\n",
       "\n",
       "$Segmentasi\n",
       "K-means clustering with 5 clusters of sizes 5, 12, 14, 9, 10\n",
       "\n",
       "Cluster means:\n",
       "  Jenis.Kelamin.1     Umur Profesi.1 Tipe.Residen.1 NilaiBelanjaSetahun\n",
       "1            1.40 61.80000  4.200000       1.400000            8.696132\n",
       "2            1.75 31.58333  3.916667       1.250000            7.330958\n",
       "3            2.00 20.07143  3.571429       1.357143            5.901089\n",
       "4            2.00 42.33333  4.000000       1.555556            8.804791\n",
       "5            1.70 52.50000  3.800000       1.300000            6.018321\n",
       "\n",
       "Clustering vector:\n",
       " [1] 1 3 5 5 4 3 1 5 2 2 5 5 1 1 3 2 2 1 2 3 4 5 2 4 2 5 2 4 5 4 3 4 3 3 4 2 3 4\n",
       "[39] 3 3 3 2 2 3 3 3 5 4 2 5\n",
       "\n",
       "Within cluster sum of squares by cluster:\n",
       "[1]  58.21123 174.85164 316.73367 171.67372 108.49735\n",
       " (between_SS / total_SS =  92.4 %)\n",
       "\n",
       "Available components:\n",
       "\n",
       "[1] \"cluster\"      \"centers\"      \"totss\"        \"withinss\"     \"tot.withinss\"\n",
       "[6] \"betweenss\"    \"size\"         \"iter\"         \"ifault\"      \n",
       "\n",
       "$Segmen.Pelanggan\n",
       "  cluster             Nama.Segmen\n",
       "1       1       Silver Youth Gals\n",
       "2       2   Diamond Senior Member\n",
       "3       3 Gold Young Professional\n",
       "4       4    Diamond Professional\n",
       "5       5 Silver Mid Professional\n",
       "\n",
       "$field_yang_digunakan\n",
       "[1] \"Jenis.Kelamin.1\"     \"Umur\"                \"Profesi.1\"          \n",
       "[4] \"Tipe.Residen.1\"      \"NilaiBelanjaSetahun\"\n"
      ]
     },
     "metadata": {},
     "output_type": "display_data"
    }
   ],
   "source": [
    "Identitas.Cluster <- readRDS(file=\"cluster.rds\")\n",
    "Identitas.Cluster"
   ]
  },
  {
   "cell_type": "code",
   "execution_count": 3,
   "metadata": {},
   "outputs": [
    {
     "data": {
      "text/html": [
       "<table>\n",
       "<thead><tr><th scope=col>Tipe.Residen</th><th scope=col>Jenis.Kelamin</th><th scope=col>Profesi</th><th scope=col>Customer_ID</th><th scope=col>Nama.Pelanggan</th><th scope=col>Umur</th><th scope=col>NilaiBelanjaSetahun</th><th scope=col>Profesi.1</th><th scope=col>Jenis.Kelamin.1</th><th scope=col>Tipe.Residen.1</th></tr></thead>\n",
       "<tbody>\n",
       "\t<tr><td>Cluster     </td><td>Wanita      </td><td>Pelajar     </td><td>CUST-100    </td><td>Rudi Wilamar</td><td>32          </td><td>3.5         </td><td>3           </td><td>2           </td><td>1           </td></tr>\n",
       "</tbody>\n",
       "</table>\n"
      ],
      "text/latex": [
       "\\begin{tabular}{r|llllllllll}\n",
       " Tipe.Residen & Jenis.Kelamin & Profesi & Customer\\_ID & Nama.Pelanggan & Umur & NilaiBelanjaSetahun & Profesi.1 & Jenis.Kelamin.1 & Tipe.Residen.1\\\\\n",
       "\\hline\n",
       "\t Cluster      & Wanita       & Pelajar      & CUST-100     & Rudi Wilamar & 32           & 3.5          & 3            & 2            & 1           \\\\\n",
       "\\end{tabular}\n"
      ],
      "text/markdown": [
       "\n",
       "| Tipe.Residen | Jenis.Kelamin | Profesi | Customer_ID | Nama.Pelanggan | Umur | NilaiBelanjaSetahun | Profesi.1 | Jenis.Kelamin.1 | Tipe.Residen.1 |\n",
       "|---|---|---|---|---|---|---|---|---|---|\n",
       "| Cluster      | Wanita       | Pelajar      | CUST-100     | Rudi Wilamar | 32           | 3.5          | 3            | 2            | 1            |\n",
       "\n"
      ],
      "text/plain": [
       "  Tipe.Residen Jenis.Kelamin Profesi Customer_ID Nama.Pelanggan Umur\n",
       "1 Cluster      Wanita        Pelajar CUST-100    Rudi Wilamar   32  \n",
       "  NilaiBelanjaSetahun Profesi.1 Jenis.Kelamin.1 Tipe.Residen.1\n",
       "1 3.5                 3         2               1             "
      ]
     },
     "metadata": {},
     "output_type": "display_data"
    }
   ],
   "source": [
    "databaru <- merge(databaru, Identitas.Cluster$Profesi)\n",
    "databaru <- merge(databaru, Identitas.Cluster$Jenis.Kelamin)\n",
    "databaru <- merge(databaru, Identitas.Cluster$Tipe.Residen)\n",
    "databaru"
   ]
  },
  {
   "cell_type": "markdown",
   "metadata": {},
   "source": [
    "# menentukan data baru di cluster mana"
   ]
  },
  {
   "cell_type": "code",
   "execution_count": 4,
   "metadata": {},
   "outputs": [
    {
     "data": {
      "text/html": [
       "<table>\n",
       "<thead><tr><th></th><th scope=col>cluster</th><th scope=col>Nama.Segmen</th></tr></thead>\n",
       "<tbody>\n",
       "\t<tr><th scope=row>2</th><td>2                    </td><td>Diamond Senior Member</td></tr>\n",
       "</tbody>\n",
       "</table>\n"
      ],
      "text/latex": [
       "\\begin{tabular}{r|ll}\n",
       "  & cluster & Nama.Segmen\\\\\n",
       "\\hline\n",
       "\t2 & 2                     & Diamond Senior Member\\\\\n",
       "\\end{tabular}\n"
      ],
      "text/markdown": [
       "\n",
       "| <!--/--> | cluster | Nama.Segmen |\n",
       "|---|---|---|\n",
       "| 2 | 2                     | Diamond Senior Member |\n",
       "\n"
      ],
      "text/plain": [
       "  cluster Nama.Segmen          \n",
       "2 2       Diamond Senior Member"
      ]
     },
     "metadata": {},
     "output_type": "display_data"
    }
   ],
   "source": [
    "Identitas.Cluster$Segmen.Pelanggan[which.min(sapply( 1:5, function( x ) sum( ( databaru[Identitas.Cluster$field_yang_digunakan] - Identitas.Cluster$Segmentasi$centers[x,])^2 ) )),]"
   ]
  }
 ],
 "metadata": {
  "kernelspec": {
   "display_name": "R",
   "language": "R",
   "name": "ir"
  },
  "language_info": {
   "codemirror_mode": "r",
   "file_extension": ".r",
   "mimetype": "text/x-r-source",
   "name": "R",
   "pygments_lexer": "r",
   "version": "3.6.1"
  }
 },
 "nbformat": 4,
 "nbformat_minor": 4
}
